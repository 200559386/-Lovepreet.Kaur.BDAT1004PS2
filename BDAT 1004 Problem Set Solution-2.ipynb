{
 "cells": [
  {
   "cell_type": "markdown",
   "id": "0e51eead",
   "metadata": {},
   "source": [
    "   ### Question 1"
   ]
  },
  {
   "cell_type": "code",
   "execution_count": 1,
   "id": "cf571e12",
   "metadata": {},
   "outputs": [
    {
     "name": "stdout",
     "output_type": "stream",
     "text": [
      "6\n"
     ]
    }
   ],
   "source": [
    "a = 0\n",
    "def b():  \n",
    "    global a \n",
    "    a = c(a) \n",
    "\n",
    "def c(a):  \n",
    "    return a + 2  \n",
    "\n",
    "b()  \n",
    "b()\n",
    "b()  \n",
    "\n",
    "print(a)"
   ]
  },
  {
   "cell_type": "markdown",
   "id": "678a8dd1",
   "metadata": {},
   "source": [
    "Explanation of each statement:\n",
    "\n",
    "a = 0: Initialize the variable 'a' with the value 0.\n",
    "def b():: Define a function 'b' without any parameters.\n",
    "global a: Declare that we want to use the global variable 'a' inside the function 'b' instead of creating a new local variable 'a'.\n",
    "a = c(a): Call the function 'c' with the current value of 'a' as an argument and assign the returned value back to 'a'. In this case, 'c(a)' will return 'a + 2', so 'a' will be updated to 2.\n",
    "def c(a):: Define a function 'c' with a parameter 'a'.\n",
    "return a + 2: Return the value of 'a' plus 2.\n",
    "b(): Call the function 'b', which will update 'a' again. Since 'a' is currently 2, 'c(a)' will return 4 and update 'a' to 4.\n",
    "b(): Call the function 'b' again, which will update 'a' once more. Since 'a' is currently 4, 'c(a)' will return 6 and update 'a' to 6.\n",
    "b(): Call the function 'b' for the third time. This will update 'a' again. Since 'a' is currently 6, 'c(a)' will return 8 and update 'a' to 8.\n",
    "print(a): Print the value of 'a', which is currently 8.\n",
    "Therefore, when the last expression a is evaluated, it will display the value 8.\n"
   ]
  },
  {
   "cell_type": "markdown",
   "id": "f065645c",
   "metadata": {},
   "source": [
    "### Question 2"
   ]
  },
  {
   "cell_type": "code",
   "execution_count": 23,
   "id": "de218c09",
   "metadata": {},
   "outputs": [],
   "source": [
    "def file_length(file_name):\n",
    "    try:\n",
    "        file = open(file_name)\n",
    "        contents= file.read()\n",
    "        file.close()\n",
    "        print(len(contents))\n",
    "    except FileNotFoundError:\n",
    "        print(f'No such file or directory: {file_name}')"
   ]
  },
  {
   "cell_type": "code",
   "execution_count": 24,
   "id": "abbf0850",
   "metadata": {},
   "outputs": [
    {
     "name": "stdout",
     "output_type": "stream",
     "text": [
      "No such file or directory: hi.py\n"
     ]
    }
   ],
   "source": [
    "file_length('hi.py')"
   ]
  },
  {
   "cell_type": "markdown",
   "id": "c40f6cfa",
   "metadata": {},
   "source": [
    "In above question we have modified the file_length method and used the concept of exception handelling i.e. try except where we write the entire code in try block and if there is any error the console directly moves to except block and print the friendly message we have given."
   ]
  },
  {
   "cell_type": "markdown",
   "id": "42b7c943",
   "metadata": {},
   "source": [
    "### Question 3"
   ]
  },
  {
   "cell_type": "code",
   "execution_count": 5,
   "id": "c003586a",
   "metadata": {},
   "outputs": [
    {
     "name": "stdout",
     "output_type": "stream",
     "text": [
      "['doll', 'firetruck', 'kitten']\n",
      "I am a Kangaroo located at coordinates (0, 0)\n",
      "['doll', 'firetruck', 'kitten']\n",
      "I am a Kangaroo located at coordinates (3, 0)\n"
     ]
    }
   ],
   "source": [
    "class Marsupial:\n",
    "    def __init__(self):\n",
    "        self.pouch = []\n",
    "\n",
    "    def put_in_pouch(self, item):\n",
    "        self.pouch.append(item)\n",
    "\n",
    "    def pouch_contents(self):\n",
    "        return self.pouch\n",
    "\n",
    "\n",
    "class Kangaroo(Marsupial):\n",
    "    def __init__(self, x, y):\n",
    "        super().__init__()\n",
    "        self.x = x\n",
    "        self.y = y\n",
    "\n",
    "    def jump(self, dx, dy):\n",
    "        self.x += dx\n",
    "        self.y += dy\n",
    "\n",
    "    def __str__(self):\n",
    "        return \"I am a Kangaroo located at coordinates ({}, {})\".format(self.x, self.y)\n",
    "m = Marsupial()\n",
    "m.put_in_pouch('doll')\n",
    "m.put_in_pouch('firetruck')\n",
    "m.put_in_pouch('kitten')\n",
    "print(m.pouch_contents())\n",
    "\n",
    "k = Kangaroo(0, 0)\n",
    "print(k)\n",
    "k.put_in_pouch('doll')\n",
    "k.put_in_pouch('firetruck')\n",
    "k.put_in_pouch('kitten')\n",
    "print(k.pouch_contents())\n",
    "k.jump(1, 0)\n",
    "k.jump(1, 0)\n",
    "k.jump(1, 0)\n",
    "print(k)\n"
   ]
  },
  {
   "cell_type": "markdown",
   "id": "ab0f00d1",
   "metadata": {},
   "source": [
    "Explanation of the code:\n",
    "\n",
    "The Marsupial class is defined with an __init__ method that initializes an empty list pouch as an attribute.\n",
    "The put_in_pouch method appends the given item to the pouch list.\n",
    "The pouch_contents method returns the contents of the pouch list.\n",
    "The Kangaroo class is defined as a subclass of Marsupial, inheriting all its attributes and methods.\n",
    "The __init__ method of Kangaroo extends the Marsupial constructor by accepting additional parameters x and y to represent the coordinates of the Kangaroo object.\n",
    "The jump method takes dx and dy as input and updates the x and y coordinates of the Kangaroo by adding the respective values.\n",
    "The __str__ method is overloaded to provide a custom string representation for the Kangaroo object. It returns a formatted string specifying the coordinates.\n",
    "Now, let's test the classes as shown in the provided examples:\n",
    "The output matches the expected results specified in the question. The Kangaroo class successfully inherits the attributes and methods from the Marsupial class and extends it with additional functionality."
   ]
  },
  {
   "cell_type": "markdown",
   "id": "f9888955",
   "metadata": {},
   "source": [
    "### Question 4"
   ]
  },
  {
   "cell_type": "code",
   "execution_count": 26,
   "id": "f66e5655",
   "metadata": {},
   "outputs": [
    {
     "name": "stdout",
     "output_type": "stream",
     "text": [
      "1\n",
      "This is a second output\n",
      "10\n",
      "5\n",
      "16\n",
      "8\n",
      "4\n",
      "2\n",
      "1\n"
     ]
    }
   ],
   "source": [
    "def collatz(x):\n",
    "    print(x)\n",
    "    if x == 1:\n",
    "        return\n",
    "    elif x % 2 == 0:\n",
    "        collatz(x // 2)\n",
    "    else:\n",
    "        collatz(3 * x + 1)\n",
    "collatz(1)\n",
    "print(f'This is a second output')\n",
    "collatz(10)\n"
   ]
  },
  {
   "cell_type": "markdown",
   "id": "40b0db81",
   "metadata": {},
   "source": [
    "Explanation of the code:\n",
    "\n",
    "The collatz() function takes a positive integer x as input.\n",
    "It prints the current value of x.\n",
    "If x is equal to 1, the function stops and returns.\n",
    "If x is even (divisible by 2), the function calls itself recursively with x // 2 as the new input.\n",
    "If x is odd, the function calls itself recursively with 3 * x + 1 as the new input.\n",
    "The process continues until x reaches 1, at which point the function stops and returns.\n",
    "Let's test the function with the provided examples:\n",
    "The output matches the expected Collatz sequence for the given inputs. The function recursively generates the sequence until it reaches 1."
   ]
  },
  {
   "cell_type": "markdown",
   "id": "4b11677e",
   "metadata": {},
   "source": [
    "### Question 5"
   ]
  },
  {
   "cell_type": "code",
   "execution_count": 7,
   "id": "70707e91",
   "metadata": {},
   "outputs": [
    {
     "name": "stdout",
     "output_type": "stream",
     "text": [
      "0\n",
      "1\n",
      "11\n",
      "1001\n"
     ]
    }
   ],
   "source": [
    "def binary(n):\n",
    "    if n == 0:\n",
    "        return '0'\n",
    "    elif n == 1:\n",
    "        return '1'\n",
    "    else:\n",
    "        return binary(n // 2) + str(n % 2)\n",
    "print(binary(0))\n",
    "print(binary(1))\n",
    "print(binary(3))\n",
    "print(binary(9))\n"
   ]
  },
  {
   "cell_type": "markdown",
   "id": "21947897",
   "metadata": {},
   "source": [
    "Explanation of the code:\n",
    "\n",
    "The binary() function takes a non-negative integer n as input.\n",
    "If n is 0, the function returns the string '0', representing the binary representation of 0.\n",
    "If n is 1, the function returns the string '1', representing the binary representation of 1.\n",
    "For any other value of n, the function recursively calls itself with n // 2 as the new input and appends the string representation of n % 2 to the result.\n",
    "The process continues until n reaches 0 or 1, and the function returns the final binary representation as a string.\n",
    "The output matches the expected binary representations for the given inputs. The function recursively generates the binary representation of the input number."
   ]
  },
  {
   "cell_type": "markdown",
   "id": "596b13f5",
   "metadata": {},
   "source": [
    "### Question 6"
   ]
  },
  {
   "cell_type": "code",
   "execution_count": 25,
   "id": "650e00ca",
   "metadata": {},
   "outputs": [
    {
     "name": "stdout",
     "output_type": "stream",
     "text": [
      "\n",
      "\n",
      "\n",
      "\n",
      "\n",
      "\n",
      "  \n",
      "\n",
      "    \n",
      "\n",
      "  \n",
      "Change_me\n",
      "\n",
      "  \n",
      "\n",
      "  \n",
      "\n",
      "  \n",
      "\n",
      "  \n",
      "\n",
      "\n",
      "\n",
      "\n",
      "\n",
      "  \n",
      "\n",
      "    W3C Mission\n",
      "  \n",
      "\n",
      "  \n",
      " \n",
      "    Principles\n",
      "  \n",
      " \n",
      "\n",
      " \n",
      "\n",
      "\n"
     ]
    }
   ],
   "source": [
    "import html.parser\n",
    "\n",
    "class HeadingParser(html.parser.HTMLParser):\n",
    "    def __init__(self):\n",
    "        super().__init__()\n",
    "        self.level = 0\n",
    "\n",
    "    def handle_starttag(self, tag, attrs):\n",
    "        if tag == 'h1':\n",
    "            self.level = 0\n",
    "        elif tag == 'h2':\n",
    "            self.level = 1\n",
    "        elif tag == 'h3':\n",
    "            self.level = 2\n",
    "\n",
    "    def handle_data(self, data):\n",
    "        print('{}{}'.format(' ' * self.level, data))\n",
    "\n",
    "\n",
    "if __name__ == '__main__':\n",
    "    infile = open('w3c.html')\n",
    "    content = infile.read()\n",
    "    infile.close()\n",
    "    hp = HeadingParser()\n",
    "    hp.feed(content)\n"
   ]
  },
  {
   "cell_type": "markdown",
   "id": "98cecddf",
   "metadata": {},
   "source": [
    "In the above code we are using html parser and we tried printing the heading of our html file. In the code I have created the a class HeadingParser and then the entire code then is been written using object oriented pardigm"
   ]
  },
  {
   "cell_type": "markdown",
   "id": "11fcb7da",
   "metadata": {},
   "source": [
    "### Question 7"
   ]
  },
  {
   "cell_type": "code",
   "execution_count": 21,
   "id": "821ffe90",
   "metadata": {},
   "outputs": [
    {
     "name": "stdout",
     "output_type": "stream",
     "text": [
      "http://reed.cs.depaul.edu/lperkovic/csc242/test1.html\n"
     ]
    }
   ],
   "source": [
    "import requests\n",
    "from bs4 import BeautifulSoup\n",
    "\n",
    "def webdir(url, depth, indent):\n",
    "    if depth < 0:\n",
    "        return\n",
    "    \n",
    "    try:\n",
    "        response = requests.get(url)\n",
    "        soup = BeautifulSoup(response.content, 'html.parser')\n",
    "        \n",
    "        print(' ' * indent + url)\n",
    "        \n",
    "        if depth > 0:\n",
    "            links = soup.find_all('a', href=True)\n",
    "            for link in links:\n",
    "                new_url = link['href']\n",
    "                if not new_url.startswith('http'):\n",
    "                    new_url = url + new_url\n",
    "                webdir(new_url, depth - 1, indent + 1)\n",
    "    except Exception as e:\n",
    "        print(' ' * indent + f\"Error accessing {url}: {e}\")\n",
    "\n",
    "# Example usage:\n",
    "webdir('http://reed.cs.depaul.edu/lperkovic/csc242/test1.html', 2, 0)\n"
   ]
  },
  {
   "cell_type": "markdown",
   "id": "7686d732",
   "metadata": {},
   "source": [
    "Explanation of the code:\n",
    "\n",
    "The webdir() function takes three parameters: url (the starting URL), depth (the maximum depth to explore), and indent (the current indentation level for printing).\n",
    "If the depth is less than 0, the function returns, as it has reached the maximum allowed depth.\n",
    "The urlopen() function from urllib.request is used to open the URL and retrieve its content.\n",
    "The BeautifulSoup class is used to create a BeautifulSoup object for parsing the HTML content.\n",
    "The URL is printed with the current indentation level.\n",
    "If the depth is 0, the function returns.\n",
    "Using soup.find_all('a'), all the tags (links) in the web page are retrieved.\n",
    "For each link, the href attribute is extracted.\n",
    "If the href starts with 'http', the webdir() function is called recursively with the new URL, depth reduced by 1, and increased indentation.\n",
    "The process continues until the specified depth is reached or no more links are found.\n",
    "When you run the code with the provided example, it will print the URLs of the web pages reachable from the starting URL within the given depth and with the appropriate indentation.\n",
    "\n",
    "Note: The BeautifulSoup library needs to be installed for this code to work. You can install it using pip install beautifulsoup4."
   ]
  },
  {
   "cell_type": "markdown",
   "id": "e6a8209b",
   "metadata": {},
   "source": [
    "### Question 8"
   ]
  },
  {
   "cell_type": "code",
   "execution_count": 28,
   "id": "1bbf9d43",
   "metadata": {},
   "outputs": [
    {
     "name": "stdout",
     "output_type": "stream",
     "text": [
      "Temperature Data: [(24.8,), (28.4,), (27.9,), (27.6,), (4.2,), (8.3,), (15.7,), (10.4,), (13.6,), (20.7,), (27.7,), (22.2,)]\n",
      "Cities: [('Mumbai',), ('London',), ('Cairo',)]\n",
      "India Records: [('Mumbai', 'India', 'Winter', 24.8, 5.9), ('Mumbai', 'India', 'Spring', 28.4, 16.2), ('Mumbai', 'India', 'Summer', 27.9, 1549.4), ('Mumbai', 'India', 'Fall', 27.6, 346.0)]\n",
      "Fall Records: [('Mumbai', 'India', 'Fall', 27.6, 346.0), ('London', 'United Kingdom', 'Fall', 10.4, 218.5), ('Cairo', 'Egypt', 'Fall', 22.2, 4.5)]\n",
      "Average Rainfall Records: [('Mumbai', 'India', 'Fall'), ('London', 'United Kingdom', 'Winter'), ('London', 'United Kingdom', 'Fall')]\n",
      "Cities Above 20 Degrees: [('Cairo', 'Egypt'), ('Mumbai', 'India')]\n",
      "Cairo Total Rainfall: (27.6,)\n",
      "Seasonal Rainfall: [('Fall', 569.0), ('Spring', 192.29999999999998), ('Summer', 1706.5), ('Winter', 230.1)]\n"
     ]
    }
   ],
   "source": [
    "import sqlite3\n",
    "\n",
    "conn = sqlite3.connect(':memory:')\n",
    "cursor = conn.cursor()\n",
    "\n",
    "cursor.execute('''CREATE TABLE weatherData (\n",
    "                    city TEXT,\n",
    "                    country TEXT,\n",
    "                    season TEXT,\n",
    "                    temperature REAL,\n",
    "                    rainfall REAL\n",
    "                );''')\n",
    "\n",
    "data = [\n",
    "    ('Mumbai', 'India', 'Winter', 24.8, 5.9),\n",
    "    ('Mumbai', 'India', 'Spring', 28.4, 16.2),\n",
    "    ('Mumbai', 'India', 'Summer', 27.9, 1549.4),\n",
    "    ('Mumbai', 'India', 'Fall', 27.6, 346.0),\n",
    "    ('London', 'United Kingdom', 'Winter', 4.2, 207.7),\n",
    "    ('London', 'United Kingdom', 'Spring', 8.3, 169.6),\n",
    "    ('London', 'United Kingdom', 'Summer', 15.7, 157.0),\n",
    "    ('London', 'United Kingdom', 'Fall', 10.4, 218.5),\n",
    "    ('Cairo', 'Egypt', 'Winter', 13.6, 16.5),\n",
    "    ('Cairo', 'Egypt', 'Spring', 20.7, 6.5),\n",
    "    ('Cairo', 'Egypt', 'Summer', 27.7, 0.1),\n",
    "    ('Cairo', 'Egypt', 'Fall', 22.2, 4.5)\n",
    "]\n",
    "\n",
    "cursor.executemany('INSERT INTO weatherData VALUES (?,?,?,?,?);', data)\n",
    "\n",
    "# Execute the queries\n",
    "cursor.execute(\"SELECT temperature FROM weatherData;\")\n",
    "temperature_data = cursor.fetchall()\n",
    "\n",
    "cursor.execute(\"SELECT DISTINCT city FROM weatherData;\")\n",
    "cities = cursor.fetchall()\n",
    "\n",
    "cursor.execute(\"SELECT * FROM weatherData WHERE country = 'India';\")\n",
    "india_records = cursor.fetchall()\n",
    "\n",
    "cursor.execute(\"SELECT * FROM weatherData WHERE season = 'Fall';\")\n",
    "fall_records = cursor.fetchall()\n",
    "\n",
    "cursor.execute(\"SELECT city, country, season FROM weatherData WHERE rainfall BETWEEN 200 AND 400;\")\n",
    "avg_rainfall_records = cursor.fetchall()\n",
    "\n",
    "cursor.execute(\"SELECT city, country FROM weatherData WHERE season = 'Fall' AND temperature > 20 ORDER BY temperature ASC;\")\n",
    "above_20_degrees = cursor.fetchall()\n",
    "\n",
    "cursor.execute(\"SELECT SUM(rainfall) AS total_rainfall FROM weatherData WHERE city = 'Cairo';\")\n",
    "cairo_total_rainfall = cursor.fetchone()\n",
    "\n",
    "cursor.execute(\"SELECT season, SUM(rainfall) AS total_rainfall FROM weatherData GROUP BY season;\")\n",
    "seasonal_rainfall = cursor.fetchall()\n",
    "\n",
    "# Close the database connection\n",
    "conn.close()\n",
    "\n",
    "# Print the results\n",
    "print(\"Temperature Data:\", temperature_data)\n",
    "print(\"Cities:\", cities)\n",
    "print(\"India Records:\", india_records)\n",
    "print(\"Fall Records:\", fall_records)\n",
    "print(\"Average Rainfall Records:\", avg_rainfall_records)\n",
    "print(\"Cities Above 20 Degrees:\", above_20_degrees)\n",
    "print(\"Cairo Total Rainfall:\", cairo_total_rainfall)\n",
    "print(\"Seasonal Rainfall:\", seasonal_rainfall)"
   ]
  },
  {
   "cell_type": "markdown",
   "id": "3af46d87",
   "metadata": {},
   "source": [
    "### Question 9"
   ]
  },
  {
   "cell_type": "code",
   "execution_count": 13,
   "id": "f2b640c3",
   "metadata": {},
   "outputs": [
    {
     "name": "stdout",
     "output_type": "stream",
     "text": [
      "['THE', 'QUICK', 'BROWN', 'FOX', 'JUMPS', 'OVER', 'THE', 'LAZY', 'DOG']\n",
      "['the', 'quick', 'brown', 'fox', 'jumps', 'over', 'the', 'lazy', 'dog']\n",
      "[3, 5, 5, 3, 5, 4, 3, 4, 3]\n",
      "[['THE', 'the', 3], ['QUICK', 'quick', 5], ['BROWN', 'brown', 5], ['FOX', 'fox', 3], ['JUMPS', 'jumps', 5], ['OVER', 'over', 4], ['THE', 'the', 3], ['LAZY', 'lazy', 4], ['DOG', 'dog', 3]]\n",
      "['quick', 'brown', 'jumps', 'over', 'lazy']\n"
     ]
    }
   ],
   "source": [
    "words = ['The', 'quick', 'brown', 'fox', 'jumps', 'over', 'the', 'lazy', 'dog']\n",
    "\n",
    "a = [word.upper() for word in words]\n",
    "b = [word.lower() for word in words]\n",
    "c = [len(word) for word in words]\n",
    "d = [[word.upper(), word.lower(), len(word)] for word in words]\n",
    "e = [word for word in words if len(word) >= 4]\n",
    "\n",
    "print(a)\n",
    "print(b)\n",
    "print(c)\n",
    "print(d)\n",
    "print(e)\n"
   ]
  },
  {
   "cell_type": "code",
   "execution_count": null,
   "id": "79dcbe54",
   "metadata": {},
   "outputs": [],
   "source": []
  }
 ],
 "metadata": {
  "kernelspec": {
   "display_name": "Python 3 (ipykernel)",
   "language": "python",
   "name": "python3"
  },
  "language_info": {
   "codemirror_mode": {
    "name": "ipython",
    "version": 3
   },
   "file_extension": ".py",
   "mimetype": "text/x-python",
   "name": "python",
   "nbconvert_exporter": "python",
   "pygments_lexer": "ipython3",
   "version": "3.10.9"
  }
 },
 "nbformat": 4,
 "nbformat_minor": 5
}
